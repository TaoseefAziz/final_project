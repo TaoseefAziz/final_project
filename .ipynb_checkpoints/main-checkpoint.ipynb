{
 "cells": [
  {
   "cell_type": "code",
   "execution_count": null,
   "id": "70e6ad67-a6aa-453e-8b71-330e3f04870c",
   "metadata": {},
   "outputs": [],
   "source": [
    "import pandas as pd\n",
    "import itertools\n",
    "from sklearn.model_selection import KFold, cross_val_score\n",
    "from sklearn.linear_model import Ridge\n",
    "from sklearn.linear_model import LinearRegression\n",
    "import matplotlib.pyplot as plt\n",
    "import numpy as np\n",
    "import warnings\n",
    "from sklearn.metrics import r2_score\n",
    "from sklearn.linear_model import Lasso\n",
    "from sklearn.linear_model import LassoLarsCV\n",
    "from sklearn.metrics import mean_squared_error\n",
    "from sklearn.impute import SimpleImputer\n",
    "from sklearn.preprocessing import OneHotEncoder\n",
    "from sklearn.model_selection import train_test_split\n",
    "from sklearn import linear_model\n",
    "\n",
    "# Suppress warnings\n",
    "warnings.filterwarnings(\"ignore\")"
   ]
  },
  {
   "cell_type": "code",
   "execution_count": null,
   "id": "fb421eb3-5303-4267-a504-937ca8593cbf",
   "metadata": {},
   "outputs": [],
   "source": [
    "df = pd.read_csv('final_converted_out.csv')\n",
    "df.head()"
   ]
  },
  {
   "cell_type": "code",
   "execution_count": null,
   "id": "6527580e-e10c-47f7-97ad-1ffe5df7bad0",
   "metadata": {},
   "outputs": [],
   "source": [
    "categorical_columns = df.select_dtypes(include=['object']).columns.tolist()\n",
    "print(categorical_columns)\n",
    "encoder = OneHotEncoder(sparse_output=False)\n",
    "one_hot_encoded = encoder.fit_transform(df[categorical_columns])\n",
    "one_hot_df = pd.DataFrame(one_hot_encoded, columns=encoder.get_feature_names_out(categorical_columns))\n",
    "df_encoded = pd.concat([df, one_hot_df], axis=1)\n",
    "df_encoded = df_encoded.drop(categorical_columns, axis=1)\n",
    "df.head()"
   ]
  },
  {
   "cell_type": "code",
   "execution_count": null,
   "id": "8ef1077e-83b7-4f22-be2e-39b62b14131d",
   "metadata": {},
   "outputs": [],
   "source": [
    "X_orig = df_encoded.drop('average_dollar_price', axis=1)\n",
    "y_orig = df_encoded['average_dollar_price']\n",
    "print(X_orig.shape)\n",
    "print(y_orig.shape)"
   ]
  },
  {
   "cell_type": "code",
   "execution_count": null,
   "id": "853be501-a8b5-4acd-a948-2f1c64de1dde",
   "metadata": {},
   "outputs": [],
   "source": [
    "imp = SimpleImputer(missing_values=np.nan, strategy='mean')\n",
    "imp.fit(X_orig)\n",
    "X = imp.transform(X_orig)\n",
    "X = pd.DataFrame(X, columns = X_orig.columns)"
   ]
  },
  {
   "cell_type": "code",
   "execution_count": null,
   "id": "aedff261-b845-4ddd-90a8-7ce84e42917d",
   "metadata": {},
   "outputs": [],
   "source": [
    "X_train, X_test, y_train, y_test = train_test_split(X,y_orig , random_state=104,test_size=0.25, shuffle=True)\n",
    "\n",
    "# Display training inputs\n",
    "print(X_train.shape)\n",
    "print(y_train.shape)\n",
    "print(X_test.shape)\n",
    "print(y_test.shape)"
   ]
  },
  {
   "cell_type": "code",
   "execution_count": null,
   "id": "7beabae4-26e9-4333-a06b-6bc0a45f153e",
   "metadata": {},
   "outputs": [],
   "source": [
    "# Fit one feature\n",
    "\n",
    "X_train_display_area = X_train[\"display_area_cm2\"].values.reshape(-1, 1)\n",
    "model = LinearRegression()\n",
    "model.fit(X_train_display_area, y_train)\n",
    "r2 = r2_score(y_train, model.predict(X_train_display_area))\n",
    "print(r2)\n",
    "\n",
    "# plot\n",
    "x_grid = np.arange(X_train_display_area.min(), X_train_display_area.max(), 0.1).reshape(-1, 1)\n",
    "y_grid = model.predict(x_grid)\n",
    "plt.scatter(X_train_display_area, y_train)\n",
    "plt.plot(x_grid, y_grid)\n",
    "\n",
    "# Label the plot and display R-squared score\n",
    "plt.xlabel('display_area')\n",
    "plt.ylabel('price')\n",
    "plt.title(f'Linear Regression - display_area against price with R^2 = {round(r2,2)}')\n",
    "plt.grid(True)\n",
    "plt.show()"
   ]
  },
  {
   "cell_type": "code",
   "execution_count": null,
   "id": "69f0d7ce",
   "metadata": {},
   "outputs": [],
   "source": [
    "def findsubsets(S,k):\n",
    "    return set(itertools.combinations(S, k))"
   ]
  },
  {
   "cell_type": "code",
   "execution_count": null,
   "id": "ef985bc2-1f67-4ef7-9444-385ff5fc496c",
   "metadata": {},
   "outputs": [],
   "source": [
    "subsets3 = findsubsets(X, 1)\n",
    "best_score3 = -np.Inf\n",
    "best_features3 = []\n",
    "for feats in subsets3:\n",
    "  this_X = X_train[list(feats)]\n",
    "  cvs = cross_val_score(linear_model.LinearRegression(), \n",
    "                             this_X, y_train, cv=5, scoring='r2')\n",
    "  this_score = cvs.mean()\n",
    "  if this_score > best_score3:\n",
    "    best_score3 = this_score\n",
    "    best_features3 = feats\n",
    "\n",
    "# report\n",
    "print('Best R2: ', best_score3)\n",
    "print('Best Features: ', best_features3)"
   ]
  }
 ],
 "metadata": {
  "kernelspec": {
   "display_name": "Python 3 (ipykernel)",
   "language": "python",
   "name": "python3"
  },
  "language_info": {
   "codemirror_mode": {
    "name": "ipython",
    "version": 3
   },
   "file_extension": ".py",
   "mimetype": "text/x-python",
   "name": "python",
   "nbconvert_exporter": "python",
   "pygments_lexer": "ipython3",
   "version": "3.11.7"
  }
 },
 "nbformat": 4,
 "nbformat_minor": 5
}
