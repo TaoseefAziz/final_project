{
 "cells": [
  {
   "cell_type": "code",
   "execution_count": 6,
   "id": "initial_id",
   "metadata": {},
   "outputs": [
    {
     "ename": "SyntaxError",
     "evalue": "invalid syntax (2274339255.py, line 2)",
     "output_type": "error",
     "traceback": [
      "\u001b[1;36m  Cell \u001b[1;32mIn[6], line 2\u001b[1;36m\u001b[0m\n\u001b[1;33m    import \"E:\\\\University of Arizona\\\\Classes\\\\Spring 2024\\\\CSC 480\\\\final_project\\\\converers\"\u001b[0m\n\u001b[1;37m           ^\u001b[0m\n\u001b[1;31mSyntaxError\u001b[0m\u001b[1;31m:\u001b[0m invalid syntax\n"
     ]
    }
   ],
   "source": [
    "import pandas as pd\n",
    "import \"E:\\\\University of Arizona\\\\Classes\\\\Spring 2024\\\\CSC 480\\\\final_project\\\\converers\"\n",
    "from converters.convert_body_weight import convert_body_weight"
   ]
  },
  {
   "cell_type": "code",
   "execution_count": 2,
   "id": "597ae31e",
   "metadata": {},
   "outputs": [],
   "source": [
    "SPECIFICATIONS_FILE = \"../specifications.csv\""
   ]
  },
  {
   "cell_type": "markdown",
   "id": "c673b19c7645f277",
   "metadata": {},
   "source": [
    "# loading the file"
   ]
  },
  {
   "cell_type": "code",
   "execution_count": null,
   "id": "e0e8815d2d51c5d9",
   "metadata": {},
   "outputs": [
    {
     "ename": "",
     "evalue": "",
     "output_type": "error",
     "traceback": [
      "\u001b[1;31mFailed to start the Kernel. \n",
      "\u001b[1;31mView Jupyter <a href='command:jupyter.viewOutput'>log</a> for further details."
     ]
    }
   ],
   "source": [
    "raw_specs = pd.read_csv(SPECIFICATIONS_FILE)\n",
    "\n",
    "raw_specs"
   ]
  },
  {
   "cell_type": "markdown",
   "id": "9123cd19db093883",
   "metadata": {},
   "source": [
    "# converting it"
   ]
  },
  {
   "cell_type": "code",
   "execution_count": null,
   "id": "bee3a5783ad1ab4e",
   "metadata": {},
   "outputs": [
    {
     "ename": "",
     "evalue": "",
     "output_type": "error",
     "traceback": [
      "\u001b[1;31mFailed to start the Kernel. \n",
      "\u001b[1;31mView Jupyter <a href='command:jupyter.viewOutput'>log</a> for further details."
     ]
    }
   ],
   "source": [
    "convert_body_weight(raw_specs)"
   ]
  }
 ],
 "metadata": {
  "kernelspec": {
   "display_name": "\"Python/Mu (mu_venv-38-20220416-143427)\"",
   "language": "python",
   "name": "mu_venv-38-20220416-143427"
  }
 },
 "nbformat": 4,
 "nbformat_minor": 5
}
