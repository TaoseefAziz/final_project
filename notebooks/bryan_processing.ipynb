{
 "cells": [
  {
   "cell_type": "code",
   "execution_count": null,
   "id": "initial_id",
   "metadata": {
    "collapsed": true
   },
   "outputs": [],
   "source": [
    "import pandas as pd\n",
    "from converters.convert_display_size import convert_display_size\n",
    "from converters.convert_audio import convert_jack"
   ]
  },
  {
   "cell_type": "code",
   "outputs": [],
   "source": [
    "SPECIFICATIONS_FILE = \"../specifications.csv\""
   ],
   "metadata": {
    "collapsed": false
   },
   "id": "bf206134247094d2",
   "execution_count": null
  },
  {
   "cell_type": "markdown",
   "source": [
    "# loading the file"
   ],
   "metadata": {
    "collapsed": false
   },
   "id": "c673b19c7645f277"
  },
  {
   "cell_type": "code",
   "outputs": [],
   "source": [
    "raw_specs = pd.read_csv(SPECIFICATIONS_FILE)\n",
    "\n",
    "raw_specs"
   ],
   "metadata": {
    "collapsed": false
   },
   "id": "e0e8815d2d51c5d9",
   "execution_count": null
  },
  {
   "cell_type": "markdown",
   "source": [
    "# converting it"
   ],
   "metadata": {
    "collapsed": false
   },
   "id": "9123cd19db093883"
  },
  {
   "cell_type": "code",
   "outputs": [],
   "source": [
    "raw_specs = convert_display_size(raw_specs)\n",
    "\n",
    "raw_specs"
   ],
   "metadata": {
    "collapsed": false
   },
   "id": "bee3a5783ad1ab4e",
   "execution_count": null
  },
  {
   "cell_type": "code",
   "outputs": [],
   "source": [
    "raw_specs = convert_jack(raw_specs)\n",
    "\n",
    "raw_specs"
   ],
   "metadata": {
    "collapsed": false
   },
   "id": "fd3bf9b7f3e91e58",
   "execution_count": null
  }
 ],
 "metadata": {
  "kernelspec": {
   "display_name": "Python 3",
   "language": "python",
   "name": "python3"
  },
  "language_info": {
   "codemirror_mode": {
    "name": "ipython",
    "version": 2
   },
   "file_extension": ".py",
   "mimetype": "text/x-python",
   "name": "python",
   "nbconvert_exporter": "python",
   "pygments_lexer": "ipython2",
   "version": "2.7.6"
  }
 },
 "nbformat": 4,
 "nbformat_minor": 5
}
