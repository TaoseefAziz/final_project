{
 "cells": [
  {
   "cell_type": "code",
   "execution_count": 5,
   "id": "initial_id",
   "metadata": {
    "collapsed": true,
    "ExecuteTime": {
     "end_time": "2024-05-08T01:02:32.747716Z",
     "start_time": "2024-05-08T01:02:32.716746Z"
    }
   },
   "outputs": [],
   "source": [
    "import pandas as pd\n",
    "from converters.convert_all_bryan import convert_all_bryan\n",
    "\n",
    "pd.options.mode.chained_assignment = None"
   ]
  },
  {
   "cell_type": "code",
   "outputs": [],
   "source": [
    "SPECIFICATIONS_FILE = \"../specifications.csv\"\n",
    "OUTPUT_FILE = \"../bryan_converted_output.csv\""
   ],
   "metadata": {
    "collapsed": false,
    "ExecuteTime": {
     "end_time": "2024-05-08T01:02:32.750611Z",
     "start_time": "2024-05-08T01:02:32.726089Z"
    }
   },
   "id": "bf206134247094d2",
   "execution_count": 6
  },
  {
   "cell_type": "markdown",
   "source": [
    "# loading the file"
   ],
   "metadata": {
    "collapsed": false
   },
   "id": "c673b19c7645f277"
  },
  {
   "cell_type": "code",
   "outputs": [
    {
     "data": {
      "text/plain": "     manufacturer                     device  \\\n0            acer     acer_chromebook_tab_10   \n1            acer         acer_iconia_talk_s   \n2            acer        acer_liquid_z6_plus   \n3            acer  acer_iconia_tab_10_a3_a40   \n4            acer            acer_predator_8   \n...           ...                        ...   \n1546          zte        zte_nubia_focus_pro   \n1547          zte         zte_nubia_z50s_pro   \n1548          zte     zte_nubia_red_magic_5g   \n1549          zte      zte_nubia_red_magic_7   \n1550          zte         zte_blade_v40_vita   \n\n                       Network_Technology  \\\n0                No cellular connectivity   \n1                        GSM / HSPA / LTE   \n2                        GSM / HSPA / LTE   \n3                No cellular connectivity   \n4                No cellular connectivity   \n...                                   ...   \n1546                GSM / HSPA / LTE / 5G   \n1547  GSM / CDMA / HSPA / EVDO / LTE / 5G   \n1548  GSM / CDMA / HSPA / EVDO / LTE / 5G   \n1549  GSM / CDMA / HSPA / EVDO / LTE / 5G   \n1550                     GSM / HSPA / LTE   \n\n                                       Network_2G bands Network_GPRS  \\\n0                                                   N/A           No   \n1           GSM 850 / 900 / 1800 / 1900 - SIM 1 & SIM 2          NaN   \n2     GSM 850 / 900 / 1800 / 1900 - SIM 1 & SIM 2 (d...          Yes   \n3                                                   N/A           No   \n4                                                   N/A           No   \n...                                                 ...          ...   \n1546        GSM 850 / 900 / 1800 / 1900 - SIM 1 & SIM 2          NaN   \n1547        GSM 850 / 900 / 1800 / 1900 - SIM 1 & SIM 2          NaN   \n1548        GSM 850 / 900 / 1800 / 1900 - SIM 1 & SIM 2          NaN   \n1549        GSM 850 / 900 / 1800 / 1900 - SIM 1 & SIM 2          NaN   \n1550        GSM 850 / 900 / 1800 / 1900 - SIM 1 & SIM 2          NaN   \n\n     Network_EDGE                          Launch_Announced  \\\n0              No                               2018, March   \n1             NaN      2016, August. Released 2016, October   \n2             Yes     2016, August. Released 2016, December   \n3              No          2016, April. Released 2016, June   \n4              No  2015, September. Released 2015, November   \n...           ...                                       ...   \n1546          NaN                         2024, February 28   \n1547          NaN                             2023, July 20   \n1548          NaN                            2020, March 12   \n1549          NaN                         2022, February 17   \n1550          NaN                              2022, May 31   \n\n                              Launch_Status  \\\n0            Available. Released 2018, July   \n1                              Discontinued   \n2                              Discontinued   \n3                              Discontinued   \n4                              Discontinued   \n...                                     ...   \n1546  Coming soon. Exp. release 2024, Q1-Q2   \n1547      Available. Released 2023, July 27   \n1548     Available. Released 2020, March 19   \n1549  Available. Released 2022, February 21   \n1550      Available. Released 2022, July 13   \n\n                                     Body_Dimensions         Body_Weight  ...  \\\n0     238.3 x 172.2 x 9.9 mm (9.38 x 6.78 x 0.39 in)   544.3 g (1.20 lb)  ...   \n1       191.7 x 101 x 9.4 mm (7.55 x 3.98 x 0.37 in)     260 g (9.17 oz)  ...   \n2      153.8 x 75.6 x 8.5 mm (6.06 x 2.98 x 0.33 in)     169 g (5.96 oz)  ...   \n3        259 x 167 x 8.9 mm (10.20 x 6.57 x 0.35 in)                   -  ...   \n4        217.9 x 127 x 8.6 mm (8.58 x 5.0 x 0.34 in)  353.8 g (12.49 oz)  ...   \n...                                              ...                 ...  ...   \n1546                                               -                   -  ...   \n1547   163.9 x 76.3 x 8.3 mm (6.45 x 3.00 x 0.33 in)     228 g (8.04 oz)  ...   \n1548     168.6 x 78 x 9.8 mm (6.64 x 3.07 x 0.39 in)     218 g (7.69 oz)  ...   \n1549   170.6 x 78.3 x 9.5 mm (6.72 x 3.08 x 0.37 in)     215 g (7.58 oz)  ...   \n1550     168 x 77.5 x 9.4 mm (6.61 x 3.05 x 0.37 in)   214.3 g (7.55 oz)  ...   \n\n                                       Network_4G bands     Network_  \\\n0                                                   NaN          NaN   \n1                                        1, 3, 7, 8, 20  3, 7, 8, 28   \n2                                     LTE (unspecified)          NaN   \n3                                                   NaN          NaN   \n4                                                   NaN          NaN   \n...                                                 ...          ...   \n1546                                                LTE          NaN   \n1547  1, 2, 3, 4, 5, 7, 8, 12, 17, 18, 19, 20, 26, 2...          NaN   \n1548  1, 2, 3, 4, 5, 7, 8, 20, 12, 17, 18, 19, 26, 3...          NaN   \n1549  1, 2, 3, 4, 5, 7, 8, 12, 17, 18, 19, 20, 26, 2...          NaN   \n1550                                                LTE          NaN   \n\n                                  Network_Speed          Platform_GPU  \\\n0                                           NaN                   NaN   \n1     HSPA 42.2/11.5 Mbps, LTE Cat4 150/50 Mbps          Mali-T720MP2   \n2     HSPA 42.2/5.76 Mbps, LTE Cat4 150/50 Mbps          Mali-T720MP3   \n3                                           NaN         Mali-T720 MP2   \n4                                           NaN                   NaN   \n...                                         ...                   ...   \n1546                              HSPA, LTE, 5G              Mali-G57   \n1547                         HSPA, LTE (CA), 5G  Adreno 740 (719 MHz)   \n1548                  HSPA, LTE, 5G 7.5 Gbps DL            Adreno 650   \n1549                              HSPA, LTE, 5G            Adreno 730   \n1550                                  HSPA, LTE          Mali-G57 MP1   \n\n                              Camera_Features Memory_  Misc_Models  \\\n0                                         NaN     NaN          NaN   \n1                               HDR, panorama     NaN          NaN   \n2                    LED flash, HDR, panorama     NaN          NaN   \n3                                         NaN     NaN          NaN   \n4                                         NaN     NaN  GT-810-15NC   \n...                                       ...     ...          ...   \n1546                           LED flash, HDR     NaN          NaN   \n1547  Dual-LED dual-tone flash, HDR, panorama     NaN       NX713J   \n1548                 LED flash, HDR, panorama     NaN       NX659J   \n1549                 LED flash, HDR, panorama     NaN       NX679J   \n1550                 LED flash, HDR, panorama     NaN         8045   \n\n                                             Body_Build  \\\n0                                                   NaN   \n1                                                   NaN   \n2                                                   NaN   \n3                                                   NaN   \n4                                                   NaN   \n...                                                 ...   \n1546                                                NaN   \n1547  Glass front, silicone polymer back (eco leathe...   \n1548  Glass front (Gorilla Glass), glass back (Goril...   \n1549            Glass front, glass back, aluminum frame   \n1550                                                NaN   \n\n                                     Main Camera_Triple Selfie camera_Features  \n0                                                   NaN                    NaN  \n1                                                   NaN                    NaN  \n2                                                   NaN                    NaN  \n3                                                   NaN                    NaN  \n4                                                   NaN                    NaN  \n...                                                 ...                    ...  \n1546  108 MP, f/1.7, 24mm (wide), 1/1.67\", PDAF, OIS...                    NaN  \n1547                                                NaN                    NaN  \n1548  64 MP, f/1.8, 26mm (wide), 1/1.72\", 0.8µm, PDA...                    HDR  \n1549  64 MP, f/1.8, 26mm (wide), 1/1.97\", 0.7µm, PDA...                    HDR  \n1550  48 MP, f/1.8, 26mm (wide), PDAF\\n2 MP, f/2.4, ...                    NaN  \n\n[1551 rows x 48 columns]",
      "text/html": "<div>\n<style scoped>\n    .dataframe tbody tr th:only-of-type {\n        vertical-align: middle;\n    }\n\n    .dataframe tbody tr th {\n        vertical-align: top;\n    }\n\n    .dataframe thead th {\n        text-align: right;\n    }\n</style>\n<table border=\"1\" class=\"dataframe\">\n  <thead>\n    <tr style=\"text-align: right;\">\n      <th></th>\n      <th>manufacturer</th>\n      <th>device</th>\n      <th>Network_Technology</th>\n      <th>Network_2G bands</th>\n      <th>Network_GPRS</th>\n      <th>Network_EDGE</th>\n      <th>Launch_Announced</th>\n      <th>Launch_Status</th>\n      <th>Body_Dimensions</th>\n      <th>Body_Weight</th>\n      <th>...</th>\n      <th>Network_4G bands</th>\n      <th>Network_</th>\n      <th>Network_Speed</th>\n      <th>Platform_GPU</th>\n      <th>Camera_Features</th>\n      <th>Memory_</th>\n      <th>Misc_Models</th>\n      <th>Body_Build</th>\n      <th>Main Camera_Triple</th>\n      <th>Selfie camera_Features</th>\n    </tr>\n  </thead>\n  <tbody>\n    <tr>\n      <th>0</th>\n      <td>acer</td>\n      <td>acer_chromebook_tab_10</td>\n      <td>No cellular connectivity</td>\n      <td>N/A</td>\n      <td>No</td>\n      <td>No</td>\n      <td>2018, March</td>\n      <td>Available. Released 2018, July</td>\n      <td>238.3 x 172.2 x 9.9 mm (9.38 x 6.78 x 0.39 in)</td>\n      <td>544.3 g (1.20 lb)</td>\n      <td>...</td>\n      <td>NaN</td>\n      <td>NaN</td>\n      <td>NaN</td>\n      <td>NaN</td>\n      <td>NaN</td>\n      <td>NaN</td>\n      <td>NaN</td>\n      <td>NaN</td>\n      <td>NaN</td>\n      <td>NaN</td>\n    </tr>\n    <tr>\n      <th>1</th>\n      <td>acer</td>\n      <td>acer_iconia_talk_s</td>\n      <td>GSM / HSPA / LTE</td>\n      <td>GSM 850 / 900 / 1800 / 1900 - SIM 1 &amp; SIM 2</td>\n      <td>NaN</td>\n      <td>NaN</td>\n      <td>2016, August. Released 2016, October</td>\n      <td>Discontinued</td>\n      <td>191.7 x 101 x 9.4 mm (7.55 x 3.98 x 0.37 in)</td>\n      <td>260 g (9.17 oz)</td>\n      <td>...</td>\n      <td>1, 3, 7, 8, 20</td>\n      <td>3, 7, 8, 28</td>\n      <td>HSPA 42.2/11.5 Mbps, LTE Cat4 150/50 Mbps</td>\n      <td>Mali-T720MP2</td>\n      <td>HDR, panorama</td>\n      <td>NaN</td>\n      <td>NaN</td>\n      <td>NaN</td>\n      <td>NaN</td>\n      <td>NaN</td>\n    </tr>\n    <tr>\n      <th>2</th>\n      <td>acer</td>\n      <td>acer_liquid_z6_plus</td>\n      <td>GSM / HSPA / LTE</td>\n      <td>GSM 850 / 900 / 1800 / 1900 - SIM 1 &amp; SIM 2 (d...</td>\n      <td>Yes</td>\n      <td>Yes</td>\n      <td>2016, August. Released 2016, December</td>\n      <td>Discontinued</td>\n      <td>153.8 x 75.6 x 8.5 mm (6.06 x 2.98 x 0.33 in)</td>\n      <td>169 g (5.96 oz)</td>\n      <td>...</td>\n      <td>LTE (unspecified)</td>\n      <td>NaN</td>\n      <td>HSPA 42.2/5.76 Mbps, LTE Cat4 150/50 Mbps</td>\n      <td>Mali-T720MP3</td>\n      <td>LED flash, HDR, panorama</td>\n      <td>NaN</td>\n      <td>NaN</td>\n      <td>NaN</td>\n      <td>NaN</td>\n      <td>NaN</td>\n    </tr>\n    <tr>\n      <th>3</th>\n      <td>acer</td>\n      <td>acer_iconia_tab_10_a3_a40</td>\n      <td>No cellular connectivity</td>\n      <td>N/A</td>\n      <td>No</td>\n      <td>No</td>\n      <td>2016, April. Released 2016, June</td>\n      <td>Discontinued</td>\n      <td>259 x 167 x 8.9 mm (10.20 x 6.57 x 0.35 in)</td>\n      <td>-</td>\n      <td>...</td>\n      <td>NaN</td>\n      <td>NaN</td>\n      <td>NaN</td>\n      <td>Mali-T720 MP2</td>\n      <td>NaN</td>\n      <td>NaN</td>\n      <td>NaN</td>\n      <td>NaN</td>\n      <td>NaN</td>\n      <td>NaN</td>\n    </tr>\n    <tr>\n      <th>4</th>\n      <td>acer</td>\n      <td>acer_predator_8</td>\n      <td>No cellular connectivity</td>\n      <td>N/A</td>\n      <td>No</td>\n      <td>No</td>\n      <td>2015, September. Released 2015, November</td>\n      <td>Discontinued</td>\n      <td>217.9 x 127 x 8.6 mm (8.58 x 5.0 x 0.34 in)</td>\n      <td>353.8 g (12.49 oz)</td>\n      <td>...</td>\n      <td>NaN</td>\n      <td>NaN</td>\n      <td>NaN</td>\n      <td>NaN</td>\n      <td>NaN</td>\n      <td>NaN</td>\n      <td>GT-810-15NC</td>\n      <td>NaN</td>\n      <td>NaN</td>\n      <td>NaN</td>\n    </tr>\n    <tr>\n      <th>...</th>\n      <td>...</td>\n      <td>...</td>\n      <td>...</td>\n      <td>...</td>\n      <td>...</td>\n      <td>...</td>\n      <td>...</td>\n      <td>...</td>\n      <td>...</td>\n      <td>...</td>\n      <td>...</td>\n      <td>...</td>\n      <td>...</td>\n      <td>...</td>\n      <td>...</td>\n      <td>...</td>\n      <td>...</td>\n      <td>...</td>\n      <td>...</td>\n      <td>...</td>\n      <td>...</td>\n    </tr>\n    <tr>\n      <th>1546</th>\n      <td>zte</td>\n      <td>zte_nubia_focus_pro</td>\n      <td>GSM / HSPA / LTE / 5G</td>\n      <td>GSM 850 / 900 / 1800 / 1900 - SIM 1 &amp; SIM 2</td>\n      <td>NaN</td>\n      <td>NaN</td>\n      <td>2024, February 28</td>\n      <td>Coming soon. Exp. release 2024, Q1-Q2</td>\n      <td>-</td>\n      <td>-</td>\n      <td>...</td>\n      <td>LTE</td>\n      <td>NaN</td>\n      <td>HSPA, LTE, 5G</td>\n      <td>Mali-G57</td>\n      <td>LED flash, HDR</td>\n      <td>NaN</td>\n      <td>NaN</td>\n      <td>NaN</td>\n      <td>108 MP, f/1.7, 24mm (wide), 1/1.67\", PDAF, OIS...</td>\n      <td>NaN</td>\n    </tr>\n    <tr>\n      <th>1547</th>\n      <td>zte</td>\n      <td>zte_nubia_z50s_pro</td>\n      <td>GSM / CDMA / HSPA / EVDO / LTE / 5G</td>\n      <td>GSM 850 / 900 / 1800 / 1900 - SIM 1 &amp; SIM 2</td>\n      <td>NaN</td>\n      <td>NaN</td>\n      <td>2023, July 20</td>\n      <td>Available. Released 2023, July 27</td>\n      <td>163.9 x 76.3 x 8.3 mm (6.45 x 3.00 x 0.33 in)</td>\n      <td>228 g (8.04 oz)</td>\n      <td>...</td>\n      <td>1, 2, 3, 4, 5, 7, 8, 12, 17, 18, 19, 20, 26, 2...</td>\n      <td>NaN</td>\n      <td>HSPA, LTE (CA), 5G</td>\n      <td>Adreno 740 (719 MHz)</td>\n      <td>Dual-LED dual-tone flash, HDR, panorama</td>\n      <td>NaN</td>\n      <td>NX713J</td>\n      <td>Glass front, silicone polymer back (eco leathe...</td>\n      <td>NaN</td>\n      <td>NaN</td>\n    </tr>\n    <tr>\n      <th>1548</th>\n      <td>zte</td>\n      <td>zte_nubia_red_magic_5g</td>\n      <td>GSM / CDMA / HSPA / EVDO / LTE / 5G</td>\n      <td>GSM 850 / 900 / 1800 / 1900 - SIM 1 &amp; SIM 2</td>\n      <td>NaN</td>\n      <td>NaN</td>\n      <td>2020, March 12</td>\n      <td>Available. Released 2020, March 19</td>\n      <td>168.6 x 78 x 9.8 mm (6.64 x 3.07 x 0.39 in)</td>\n      <td>218 g (7.69 oz)</td>\n      <td>...</td>\n      <td>1, 2, 3, 4, 5, 7, 8, 20, 12, 17, 18, 19, 26, 3...</td>\n      <td>NaN</td>\n      <td>HSPA, LTE, 5G 7.5 Gbps DL</td>\n      <td>Adreno 650</td>\n      <td>LED flash, HDR, panorama</td>\n      <td>NaN</td>\n      <td>NX659J</td>\n      <td>Glass front (Gorilla Glass), glass back (Goril...</td>\n      <td>64 MP, f/1.8, 26mm (wide), 1/1.72\", 0.8µm, PDA...</td>\n      <td>HDR</td>\n    </tr>\n    <tr>\n      <th>1549</th>\n      <td>zte</td>\n      <td>zte_nubia_red_magic_7</td>\n      <td>GSM / CDMA / HSPA / EVDO / LTE / 5G</td>\n      <td>GSM 850 / 900 / 1800 / 1900 - SIM 1 &amp; SIM 2</td>\n      <td>NaN</td>\n      <td>NaN</td>\n      <td>2022, February 17</td>\n      <td>Available. Released 2022, February 21</td>\n      <td>170.6 x 78.3 x 9.5 mm (6.72 x 3.08 x 0.37 in)</td>\n      <td>215 g (7.58 oz)</td>\n      <td>...</td>\n      <td>1, 2, 3, 4, 5, 7, 8, 12, 17, 18, 19, 20, 26, 2...</td>\n      <td>NaN</td>\n      <td>HSPA, LTE, 5G</td>\n      <td>Adreno 730</td>\n      <td>LED flash, HDR, panorama</td>\n      <td>NaN</td>\n      <td>NX679J</td>\n      <td>Glass front, glass back, aluminum frame</td>\n      <td>64 MP, f/1.8, 26mm (wide), 1/1.97\", 0.7µm, PDA...</td>\n      <td>HDR</td>\n    </tr>\n    <tr>\n      <th>1550</th>\n      <td>zte</td>\n      <td>zte_blade_v40_vita</td>\n      <td>GSM / HSPA / LTE</td>\n      <td>GSM 850 / 900 / 1800 / 1900 - SIM 1 &amp; SIM 2</td>\n      <td>NaN</td>\n      <td>NaN</td>\n      <td>2022, May 31</td>\n      <td>Available. Released 2022, July 13</td>\n      <td>168 x 77.5 x 9.4 mm (6.61 x 3.05 x 0.37 in)</td>\n      <td>214.3 g (7.55 oz)</td>\n      <td>...</td>\n      <td>LTE</td>\n      <td>NaN</td>\n      <td>HSPA, LTE</td>\n      <td>Mali-G57 MP1</td>\n      <td>LED flash, HDR, panorama</td>\n      <td>NaN</td>\n      <td>8045</td>\n      <td>NaN</td>\n      <td>48 MP, f/1.8, 26mm (wide), PDAF\\n2 MP, f/2.4, ...</td>\n      <td>NaN</td>\n    </tr>\n  </tbody>\n</table>\n<p>1551 rows × 48 columns</p>\n</div>"
     },
     "execution_count": 7,
     "metadata": {},
     "output_type": "execute_result"
    }
   ],
   "source": [
    "raw_specs = pd.read_csv(SPECIFICATIONS_FILE)\n",
    "\n",
    "raw_specs"
   ],
   "metadata": {
    "collapsed": false,
    "ExecuteTime": {
     "end_time": "2024-05-08T01:02:32.822957Z",
     "start_time": "2024-05-08T01:02:32.735830Z"
    }
   },
   "id": "e0e8815d2d51c5d9",
   "execution_count": 7
  },
  {
   "cell_type": "markdown",
   "source": [
    "# converting it"
   ],
   "metadata": {
    "collapsed": false
   },
   "id": "9123cd19db093883"
  },
  {
   "cell_type": "code",
   "outputs": [
    {
     "name": "stdout",
     "output_type": "stream",
     "text": [
      "Lost: 0 rows when converting body_sim\n"
     ]
    }
   ],
   "source": [
    "converted = convert_all_bryan(raw_specs)"
   ],
   "metadata": {
    "collapsed": false,
    "ExecuteTime": {
     "end_time": "2024-05-08T01:02:53.927907Z",
     "start_time": "2024-05-08T01:02:32.832031Z"
    }
   },
   "id": "2d6d59e063e07dfe",
   "execution_count": 8
  },
  {
   "cell_type": "code",
   "outputs": [],
   "source": [
    "converted.to_csv(OUTPUT_FILE)"
   ],
   "metadata": {
    "collapsed": false,
    "ExecuteTime": {
     "end_time": "2024-05-08T01:02:54.059969Z",
     "start_time": "2024-05-08T01:02:53.930639Z"
    }
   },
   "id": "faf3107b3773f32a",
   "execution_count": 9
  }
 ],
 "metadata": {
  "kernelspec": {
   "display_name": "Python 3",
   "language": "python",
   "name": "python3"
  },
  "language_info": {
   "codemirror_mode": {
    "name": "ipython",
    "version": 2
   },
   "file_extension": ".py",
   "mimetype": "text/x-python",
   "name": "python",
   "nbconvert_exporter": "python",
   "pygments_lexer": "ipython2",
   "version": "2.7.6"
  }
 },
 "nbformat": 4,
 "nbformat_minor": 5
}
